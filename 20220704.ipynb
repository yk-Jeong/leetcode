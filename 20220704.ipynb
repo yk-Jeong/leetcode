{
  "nbformat": 4,
  "nbformat_minor": 0,
  "metadata": {
    "colab": {
      "name": "20220704.ipynb",
      "provenance": [],
      "collapsed_sections": [],
      "authorship_tag": "ABX9TyN/2ps37ooB0WyIEG0FyRIk",
      "include_colab_link": true
    },
    "kernelspec": {
      "name": "python3",
      "display_name": "Python 3"
    },
    "language_info": {
      "name": "python"
    }
  },
  "cells": [
    {
      "cell_type": "markdown",
      "metadata": {
        "id": "view-in-github",
        "colab_type": "text"
      },
      "source": [
        "<a href=\"https://colab.research.google.com/github/yk-Jeong/leetcode/blob/main/20220704.ipynb\" target=\"_parent\"><img src=\"https://colab.research.google.com/assets/colab-badge.svg\" alt=\"Open In Colab\"/></a>"
      ]
    },
    {
      "cell_type": "markdown",
      "source": [
        "<pre><center>*\n",
        "**\n",
        "***\n",
        "****\n",
        "*****\n",
        "****\n",
        "***\n",
        "**\n",
        "*\n",
        "</pre>"
      ],
      "metadata": {
        "id": "m-mVBG0c3OuS"
      }
    },
    {
      "cell_type": "code",
      "source": [
        "for i in range(1, 10):\n",
        "  if i < 6:\n",
        "    print((\" \"*(10-i)) + (\"*\"*i) + (\" \"*(10-i)), end=\"\")\n",
        "    print(\"\")\n",
        "  else: \n",
        "    for j in range(10-i):\n",
        "      print(\" \" + \"*\"*(10-i) + \" \", end=\"\")\n",
        "    print(\"\")"
      ],
      "metadata": {
        "id": "ilOYyrLfdtgQ",
        "colab": {
          "base_uri": "https://localhost:8080/"
        },
        "outputId": "e1f57a6e-aeaa-4ae4-fe51-b61ca71e173a"
      },
      "execution_count": 13,
      "outputs": [
        {
          "output_type": "stream",
          "name": "stdout",
          "text": [
            "         *         \n",
            "        **        \n",
            "       ***       \n",
            "      ****      \n",
            "     *****     \n",
            " ****  ****  ****  **** \n",
            " ***  ***  *** \n",
            " **  ** \n",
            " * \n"
          ]
        }
      ]
    },
    {
      "cell_type": "code",
      "source": [
        "for i in range(1, 11):\n",
        "  print(i)"
      ],
      "metadata": {
        "colab": {
          "base_uri": "https://localhost:8080/"
        },
        "id": "dq1UtBKCadbk",
        "outputId": "51a4ec1f-d0b8-47f4-bb6a-d398fd086ad2"
      },
      "execution_count": 58,
      "outputs": [
        {
          "output_type": "stream",
          "name": "stdout",
          "text": [
            "1\n",
            "2\n",
            "3\n",
            "4\n",
            "5\n",
            "6\n",
            "7\n",
            "8\n",
            "9\n",
            "10\n"
          ]
        }
      ]
    },
    {
      "cell_type": "code",
      "source": [
        "\n",
        "for i in range(1, 11):\n",
        "  if i % 2 is not 0:\n",
        "    if i <= 5:\n",
        "      print(\" \" *(4-i) + \"*\" * i + \" \"*(4-i))\n",
        "    else:\n",
        "      print(\" \"* (i-4) + \"*\" * (11-i) + \" \"*(i-4))"
      ],
      "metadata": {
        "colab": {
          "base_uri": "https://localhost:8080/"
        },
        "id": "VT0jjUDrlvRg",
        "outputId": "9e5ea13d-ae05-436d-c5ce-0dbfa27c9e4c"
      },
      "execution_count": 61,
      "outputs": [
        {
          "output_type": "stream",
          "name": "stdout",
          "text": [
            "  *   \n",
            "*** \n",
            "*****\n",
            "   ****   \n",
            "     **     \n"
          ]
        }
      ]
    },
    {
      "cell_type": "markdown",
      "source": [
        ""
      ],
      "metadata": {
        "id": "jirX0M6QbQaX"
      }
    },
    {
      "cell_type": "code",
      "source": [
        "\n",
        "\n",
        "\n",
        "\n",
        "\n",
        "print(\" \"*3+ \"*\" + \" \"*3) 1 - 3\n",
        "print(\" \"*2+ \"***\" + \" \"*2) 3 - 2 \n",
        "print(\" \"+ \"*****\" + \" \") 5 - 1"
      ],
      "metadata": {
        "id": "kfsR1b2V8FUg"
      },
      "execution_count": null,
      "outputs": []
    }
  ]
}